{
 "cells": [
  {
   "cell_type": "markdown",
   "id": "5752214e-4467-4350-8834-ffa23b0d70e9",
   "metadata": {},
   "source": [
    "### Defining State Class"
   ]
  },
  {
   "cell_type": "code",
   "execution_count": 9,
   "id": "c6fd89c5-dfde-4130-a77c-ebc085b32a30",
   "metadata": {},
   "outputs": [],
   "source": [
    "class State:\n",
    "    def __init__(self, row, col, grid):\n",
    "        self.row = row\n",
    "        self.col = col\n",
    "        self.grid = grid\n",
    "        self.n = len(grid)\n",
    "\n",
    "    def goalTest(self):\n",
    "        \n",
    "        return self.row == self.n - 1 and self.col == self.n - 1\n",
    "\n",
    "    def moveGen(self):\n",
    "        \n",
    "        directions = [(-1, 0), (1, 0), (0, -1), (0, 1),\n",
    "                      (1, 1), (-1, -1), (1, -1), (-1, 1)]\n",
    "        children = []\n",
    "        for dr, dc in directions:\n",
    "            new_row, new_col = self.row + dr, self.col + dc\n",
    "            if 0 <= new_row < self.n and 0 <= new_col < self.n:\n",
    "                if self.grid[new_row][new_col] == 0:\n",
    "                    children.append(State(new_row, new_col, self.grid))\n",
    "        return children\n",
    "\n",
    "    def __eq__(self, other):\n",
    "        return self.row == other.row and self.col == other.col\n",
    "\n",
    "    def __hash__(self):\n",
    "        return hash((self.row, self.col))\n",
    "\n",
    "    def __repr__(self):\n",
    "        return f\"({self.row},{self.col})\"\n"
   ]
  },
  {
   "cell_type": "markdown",
   "id": "a0340ce8-4a7d-4026-801f-f490fc77ebf5",
   "metadata": {},
   "source": [
    "### Defining heuristic functions"
   ]
  },
  {
   "cell_type": "code",
   "execution_count": 10,
   "id": "530f4bc4-3bc3-4909-b8b7-90b939ee099f",
   "metadata": {},
   "outputs": [],
   "source": [
    "import math\n",
    "\n",
    "def heuristic(state):\n",
    "   \n",
    "    return abs(state.n - 1 - state.row) + abs(state.n - 1 - state.col)\n",
    "\n",
    "def euclidean(state):\n",
    "    \n",
    "    return math.sqrt((state.row - (state.n - 1))**2 + (state.col - (state.n - 1))**2)\n"
   ]
  },
  {
   "cell_type": "markdown",
   "id": "3a58eac3-553c-4baa-9d22-bc1098e901b4",
   "metadata": {},
   "source": [
    "### Best First Search (Greedy)"
   ]
  },
  {
   "cell_type": "code",
   "execution_count": 11,
   "id": "15a13672-4b3c-473e-a6d8-0edd400357eb",
   "metadata": {},
   "outputs": [],
   "source": [
    "def best_first_search(start):\n",
    "    visited = set()\n",
    "    frontier = [(heuristic(start), [start])] \n",
    "\n",
    "    while frontier:\n",
    "        \n",
    "        frontier.sort(key=lambda x: x[0])  \n",
    "        _, path = frontier.pop(0)\n",
    "        current = path[-1]\n",
    "\n",
    "        if current.goalTest():\n",
    "            return len(path), [(s.row, s.col) for s in path]\n",
    "\n",
    "        if current not in visited:\n",
    "            visited.add(current)\n",
    "            for child in current.moveGen():\n",
    "                if child not in visited:\n",
    "                    frontier.append((heuristic(child), path + [child]))\n",
    "\n",
    "    return None, None\n"
   ]
  },
  {
   "cell_type": "markdown",
   "id": "4e3af069-ba6e-438c-a233-15a3917891f7",
   "metadata": {},
   "source": [
    "### A* Search"
   ]
  },
  {
   "cell_type": "code",
   "execution_count": 12,
   "id": "eeab775e-b43b-4eff-a62c-332302d2c696",
   "metadata": {},
   "outputs": [],
   "source": [
    "def a_star_search(start):\n",
    "    visited = set()\n",
    "    frontier = [(heuristic(start), 0, [start])] \n",
    "\n",
    "    while frontier:\n",
    "       \n",
    "        frontier.sort(key=lambda x: x[0])  \n",
    "        f, g, path = frontier.pop(0)\n",
    "        current = path[-1]\n",
    "\n",
    "        if current.goalTest():\n",
    "            return len(path), [(s.row, s.col) for s in path]\n",
    "\n",
    "        if current not in visited:\n",
    "            visited.add(current)\n",
    "            for child in current.moveGen():\n",
    "                if child not in visited:\n",
    "                    new_g = g + 1\n",
    "                    new_f = new_g + heuristic(child)\n",
    "                    frontier.append((new_f, new_g, path + [child]))\n",
    "\n",
    "    return None, None\n"
   ]
  },
  {
   "cell_type": "markdown",
   "id": "018a4ef8-c9c0-44c5-8d79-aa7fd1a6aefb",
   "metadata": {},
   "source": [
    "### Test Grids"
   ]
  },
  {
   "cell_type": "code",
   "execution_count": 7,
   "id": "2c566671-e695-4ce4-8ebc-38e229e1ef28",
   "metadata": {},
   "outputs": [
    {
     "name": "stdout",
     "output_type": "stream",
     "text": [
      "\n",
      "Example 1:\n",
      "  Best First Search → Path length: 2, Path: [(0, 0), (1, 1)]\n",
      "  A* Search         → Path length: 2, Path: [(0, 0), (1, 1)]\n",
      "\n",
      "Example 2:\n",
      "  Best First Search → Path length: 4, Path: [(0, 0), (0, 1), (1, 2), (2, 2)]\n",
      "  A* Search         → Path length: 4, Path: [(0, 0), (0, 1), (1, 2), (2, 2)]\n",
      "\n",
      "Example 3:\n",
      "  Best First Search → Path length: 4, Path: [(0, 0), (0, 1), (1, 2), (2, 2)]\n",
      "  A* Search         → Path length: 4, Path: [(0, 0), (0, 1), (1, 2), (2, 2)]\n"
     ]
    }
   ],
   "source": [
    "grids = {\n",
    "    \"Example 1\": [[0, 1],\n",
    "                  [1, 0]],\n",
    "    \"Example 2\": [[0, 0, 0],\n",
    "                  [1, 1, 0],\n",
    "                  [1, 1, 0]],\n",
    "    \"Example 3\": [[1, 0, 0],\n",
    "                  [1, 1, 0],\n",
    "                  [1, 1, 0]]\n",
    "}\n",
    "\n",
    "for name, grid in grids.items():\n",
    "    print(f\"\\n{name}:\")\n",
    "    bfs_len, bfs_path = best_first_search(State(0,0,grid))\n",
    "    astar_len, astar_path = a_star_search(State(0,0,grid))\n",
    "\n",
    "    print(f\"  Best First Search → Path length: {bfs_len}, Path: {bfs_path}\")\n",
    "    print(f\"  A* Search         → Path length: {astar_len}, Path: {astar_path}\")\n"
   ]
  },
  {
   "cell_type": "code",
   "execution_count": 8,
   "id": "1f87fc7c-3001-49d5-b95e-7d3b0d11af14",
   "metadata": {},
   "outputs": [
    {
     "name": "stdout",
     "output_type": "stream",
     "text": [
      "\n",
      "Best First Search (Greedy Search):\n",
      "- Uses only the heuristic to move closer to the goal.\n",
      "- Faster, but not guaranteed to find the shortest path.\n",
      "\n",
      "A* Search:\n",
      "- Uses f = g + h (cost so far + heuristic).\n",
      "- Always finds the shortest path if the heuristic is admissible.\n",
      "- More reliable but can be slower than Greedy Search.\n",
      "\n"
     ]
    }
   ],
   "source": [
    "print(\"\"\"\n",
    "Best First Search (Greedy Search):\n",
    "- Uses only the heuristic to move closer to the goal.\n",
    "- Faster, but not guaranteed to find the shortest path.\n",
    "\n",
    "A* Search:\n",
    "- Uses f = g + h (cost so far + heuristic).\n",
    "- Always finds the shortest path if the heuristic is admissible.\n",
    "- More reliable but can be slower than Greedy Search.\n",
    "\"\"\")\n"
   ]
  },
  {
   "cell_type": "code",
   "execution_count": null,
   "id": "aa54e41e-26ab-4e85-a3c3-a9132aabacba",
   "metadata": {},
   "outputs": [],
   "source": []
  }
 ],
 "metadata": {
  "kernelspec": {
   "display_name": "llmenv",
   "language": "python",
   "name": "llmenv"
  },
  "language_info": {
   "codemirror_mode": {
    "name": "ipython",
    "version": 3
   },
   "file_extension": ".py",
   "mimetype": "text/x-python",
   "name": "python",
   "nbconvert_exporter": "python",
   "pygments_lexer": "ipython3",
   "version": "3.10.12"
  }
 },
 "nbformat": 4,
 "nbformat_minor": 5
}
